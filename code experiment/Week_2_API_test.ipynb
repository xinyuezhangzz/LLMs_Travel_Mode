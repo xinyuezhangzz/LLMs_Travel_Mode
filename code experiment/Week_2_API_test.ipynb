{
  "cells": [
    {
      "cell_type": "markdown",
      "id": "9ca84242",
      "metadata": {
        "id": "9ca84242"
      },
      "source": [
        "### 1. Install & Load Packages"
      ]
    },
    {
      "cell_type": "code",
      "execution_count": null,
      "id": "8c7b3d5f",
      "metadata": {
        "id": "8c7b3d5f",
        "outputId": "610c9bcc-571a-4b8b-dbe9-7f334db8e82f"
      },
      "outputs": [
        {
          "data": {
            "text/plain": [
              "'pip install openai python-dotenv'"
            ]
          },
          "execution_count": 1,
          "metadata": {},
          "output_type": "execute_result"
        }
      ],
      "source": [
        "\"\"\"pip install openai python-dotenv\"\"\""
      ]
    },
    {
      "cell_type": "code",
      "execution_count": null,
      "id": "6a46a323",
      "metadata": {
        "id": "6a46a323"
      },
      "outputs": [],
      "source": [
        "import openai"
      ]
    },
    {
      "cell_type": "markdown",
      "id": "54b62eb5",
      "metadata": {
        "id": "54b62eb5"
      },
      "source": [
        "### 2. Load Tokens"
      ]
    },
    {
      "cell_type": "code",
      "execution_count": null,
      "id": "53b4c78c",
      "metadata": {
        "id": "53b4c78c"
      },
      "outputs": [],
      "source": [
        "openai.api_key = \"API_need_to_be_fill\""
      ]
    },
    {
      "cell_type": "markdown",
      "id": "e7051f69",
      "metadata": {
        "id": "e7051f69"
      },
      "source": [
        "### 3. Load Data or Text"
      ]
    },
    {
      "cell_type": "code",
      "execution_count": null,
      "id": "561d8bf0",
      "metadata": {
        "id": "561d8bf0"
      },
      "outputs": [],
      "source": [
        "ex1 = \"\"\"\n",
        "@NJTRANSIT_MBPJ @NJTRANSIT @aew1776 @FuckNjTransit\n",
        "\n",
        "8:45am……approaching AN HOUR WAITING\n",
        "\n",
        "STILL no shuttle bus has shown up at Salisbury Mills….\n",
        "\n",
        "We’re LITERALLY 1 stop from Harriman and nothing……\n",
        "\"\"\""
      ]
    },
    {
      "cell_type": "code",
      "execution_count": null,
      "id": "8b24d81f",
      "metadata": {
        "id": "8b24d81f"
      },
      "outputs": [],
      "source": [
        "ex2 = \"\"\"\n",
        "somebody said dr. strange is the the best of the mcu\n",
        "\"\"\""
      ]
    },
    {
      "cell_type": "code",
      "execution_count": null,
      "id": "0316ad47",
      "metadata": {
        "id": "0316ad47"
      },
      "outputs": [],
      "source": [
        "ex3 = \"\"\"\n",
        "bus out of service. engine off, lights out. not allowed to disembark as still on the highway, approaching the bronx, near lafayette avenue. bus driver already called for assistance, waiting quietly and patiently for the next bus https: and and t.co and 6sxouvhg1v\n",
        "\"\"\""
      ]
    },
    {
      "cell_type": "code",
      "execution_count": null,
      "id": "b390c65a",
      "metadata": {
        "id": "b390c65a"
      },
      "outputs": [],
      "source": [
        "ex4 = \"\"\"\n",
        "\n",
        "\"\"\""
      ]
    },
    {
      "cell_type": "markdown",
      "id": "57a9191f",
      "metadata": {
        "id": "57a9191f"
      },
      "source": [
        "### 4. Process Data or Text"
      ]
    },
    {
      "cell_type": "code",
      "execution_count": null,
      "id": "3bd48bcb",
      "metadata": {
        "id": "3bd48bcb"
      },
      "outputs": [],
      "source": [
        "def prepare_tweet(tweet):\n",
        "    \"\"\"\n",
        "    Prepare the tweet for processing:\n",
        "    - Escape double quotes\n",
        "    - Trim excess whitespace\n",
        "    \"\"\"\n",
        "    return ' '.join(tweet.split())"
      ]
    },
    {
      "cell_type": "markdown",
      "id": "6512493e",
      "metadata": {
        "id": "6512493e"
      },
      "source": [
        "### 5. API"
      ]
    },
    {
      "cell_type": "markdown",
      "id": "f7f428d7",
      "metadata": {
        "id": "f7f428d7"
      },
      "source": [
        "### (1) Test with lines of code"
      ]
    },
    {
      "cell_type": "code",
      "execution_count": null,
      "id": "7d41b301",
      "metadata": {
        "id": "7d41b301"
      },
      "outputs": [],
      "source": [
        "prepared_tweet = prepare_tweet(ex1)\n",
        "response = openai.chat.completions.create(\n",
        "    model=\"gpt-3.5-turbo\",\n",
        "    messages=[\n",
        "            {\"role\": \"system\", \"content\": \"You are a helpful assistant.\"},\n",
        "            {\"role\": \"user\", \"content\": f\"Given the tweet: \\\"{prepared_tweet}\\\" 1. What is the corresponding travel mode? (Train, subway, bus, bike, taxi, Uber, private car) 2. Is the user satisfied with the corresponding travel mode’s service? (Yes or No) 3. If not satisfied, what are the reasons behind?\"}\n",
        "    ],\n",
        "    temperature=0.5,\n",
        "    max_tokens=100\n",
        "    )"
      ]
    },
    {
      "cell_type": "code",
      "execution_count": null,
      "id": "6dd32c49",
      "metadata": {
        "scrolled": true,
        "id": "6dd32c49",
        "outputId": "128a55e1-e342-43f0-f986-5f18288eb59d"
      },
      "outputs": [
        {
          "data": {
            "text/plain": [
              "ChatCompletion(id='chatcmpl-8tqNhlYLFtA9LHIhOb45F5czD6f8f', choices=[Choice(finish_reason='stop', index=0, logprobs=None, message=ChatCompletionMessage(content='1. The corresponding travel mode is a shuttle bus.\\n2. No, the user is not satisfied with the shuttle bus service.\\n3. The user is dissatisfied because they have been waiting for almost an hour, and no shuttle bus has shown up despite being just one stop away from their destination.', role='assistant', function_call=None, tool_calls=None))], created=1708320085, model='gpt-3.5-turbo-0125', object='chat.completion', system_fingerprint='fp_69829325d0', usage=CompletionUsage(completion_tokens=60, prompt_tokens=140, total_tokens=200))"
            ]
          },
          "execution_count": 10,
          "metadata": {},
          "output_type": "execute_result"
        }
      ],
      "source": [
        "response"
      ]
    },
    {
      "cell_type": "code",
      "execution_count": null,
      "id": "a9b3eb2b",
      "metadata": {
        "id": "a9b3eb2b",
        "outputId": "ede0fd67-b17c-4abf-f877-dc10a04182c3"
      },
      "outputs": [
        {
          "name": "stdout",
          "output_type": "stream",
          "text": [
            "1. The corresponding travel mode is a shuttle bus.\n",
            "2. No, the user is not satisfied with the shuttle bus service.\n",
            "3. The user is dissatisfied because they have been waiting for almost an hour, and no shuttle bus has shown up despite being just one stop away from their destination.\n"
          ]
        }
      ],
      "source": [
        "print(response.choices[0].message.content)"
      ]
    },
    {
      "cell_type": "markdown",
      "id": "b25a3df3",
      "metadata": {
        "id": "b25a3df3"
      },
      "source": [
        "### (2) Test with Aggregate Function"
      ]
    },
    {
      "cell_type": "code",
      "execution_count": null,
      "id": "2e742af0",
      "metadata": {
        "id": "2e742af0"
      },
      "outputs": [],
      "source": [
        "def analyze_tweet(tweet):\n",
        "    prepared_tweet = prepare_tweet(tweet)\n",
        "    response = openai.chat.completions.create(\n",
        "        model=\"gpt-3.5-turbo\",\n",
        "        messages=[\n",
        "            {\"role\": \"system\", \"content\": \"You are a helpful assistant.\"},\n",
        "            {\"role\": \"user\", \"content\": f\"Given the tweet: \\\"{prepared_tweet}\\\" 1. What is the corresponding travel mode? (Train, subway, bus, bike, taxi, Uber, private car) 2. Is the user satisfied with the corresponding travel mode’s service? (Yes or No) 3. If not satisfied, what are the reasons behind?\"}\n",
        "        ],\n",
        "        temperature=0.5,\n",
        "        max_tokens=100\n",
        "    )\n",
        "    completion = response.choices[0].message.content\n",
        "    return completion"
      ]
    },
    {
      "cell_type": "code",
      "execution_count": null,
      "id": "1171e363",
      "metadata": {
        "id": "1171e363",
        "outputId": "7fedce24-037d-4f8a-ea34-7aacf5f56905"
      },
      "outputs": [
        {
          "name": "stdout",
          "output_type": "stream",
          "text": [
            "Analysis:\n",
            "1. The corresponding travel mode is a shuttle bus.\n",
            "2. No, the user is not satisfied with the shuttle bus service.\n",
            "3. The user is not satisfied because they have been waiting for almost an hour and the shuttle bus has not shown up, causing frustration and inconvenience in their journey.\n",
            "\n"
          ]
        }
      ],
      "source": [
        "analysis = analyze_tweet(ex1)\n",
        "print(f\"Analysis:\\n{analysis}\\n\")"
      ]
    },
    {
      "cell_type": "code",
      "execution_count": null,
      "id": "0faee9a3",
      "metadata": {
        "id": "0faee9a3",
        "outputId": "b40da421-2917-4aa1-f528-972d640b1dba"
      },
      "outputs": [
        {
          "name": "stdout",
          "output_type": "stream",
          "text": [
            "Analysis:\n",
            "I'm sorry, but I'm unable to determine the corresponding travel mode, user satisfaction, or reasons behind it based on the tweet provided. If you have any other questions or need assistance with something else, feel free to ask!\n",
            "\n"
          ]
        }
      ],
      "source": [
        "analysis = analyze_tweet(ex2)\n",
        "print(f\"Analysis:\\n{analysis}\\n\")"
      ]
    },
    {
      "cell_type": "code",
      "execution_count": null,
      "id": "ef7f42c6",
      "metadata": {
        "id": "ef7f42c6",
        "outputId": "71b69904-45ec-4bc2-d785-a01b138f904b"
      },
      "outputs": [
        {
          "name": "stdout",
          "output_type": "stream",
          "text": [
            "Analysis:\n",
            "1. The corresponding travel mode is a bus.\n",
            "2. The user does not seem satisfied with the bus service at the moment.\n",
            "3. The user may not be satisfied due to the bus being out of service, unable to disembark, and the inconvenience caused by the delay in reaching their destination.\n",
            "\n"
          ]
        }
      ],
      "source": [
        "analysis = analyze_tweet(ex3)\n",
        "print(f\"Analysis:\\n{analysis}\\n\")"
      ]
    },
    {
      "cell_type": "code",
      "execution_count": null,
      "id": "eb6fb778",
      "metadata": {
        "id": "eb6fb778",
        "outputId": "8837499d-c1c6-426b-cf09-8b6daf3f408d"
      },
      "outputs": [
        {
          "name": "stdout",
          "output_type": "stream",
          "text": [
            "Analysis:\n",
            "I'm sorry, but it seems like you haven't provided the tweet for me to analyze. Could you please share the tweet so I can assist you with identifying the corresponding travel mode, determining the user's satisfaction, and exploring the reasons behind their satisfaction or dissatisfaction?\n",
            "\n"
          ]
        }
      ],
      "source": [
        "analysis = analyze_tweet(ex4)\n",
        "print(f\"Analysis:\\n{analysis}\\n\")"
      ]
    },
    {
      "cell_type": "markdown",
      "id": "8a609d57",
      "metadata": {
        "id": "8a609d57"
      },
      "source": [
        "### 6. Some Explore\n",
        "\n",
        "\n",
        "I want to test if the function could improve to work with list of tweets."
      ]
    },
    {
      "cell_type": "code",
      "execution_count": null,
      "id": "d5cd58a9",
      "metadata": {
        "id": "d5cd58a9"
      },
      "outputs": [],
      "source": [
        "# Combine the separate tweets into a list\n",
        "ex=[ex1,ex2,ex3,ex4]"
      ]
    },
    {
      "cell_type": "code",
      "execution_count": null,
      "id": "b5f4f542",
      "metadata": {
        "id": "b5f4f542"
      },
      "outputs": [],
      "source": [
        "def analyze_tweets(tweets):\n",
        "    results = []\n",
        "    for tweet in tweets:\n",
        "        analysis = analyze_tweet(tweet)\n",
        "        results.append(analysis)\n",
        "    return results"
      ]
    },
    {
      "cell_type": "code",
      "execution_count": null,
      "id": "41073dc8",
      "metadata": {
        "id": "41073dc8",
        "outputId": "6711f3fd-5609-4ec3-cd7d-38a33d713257"
      },
      "outputs": [
        {
          "name": "stdout",
          "output_type": "stream",
          "text": [
            "Analysis 1:\n",
            "1. The corresponding travel mode is a shuttle bus operated by NJ Transit.\n",
            "2. No, the user is not satisfied with the shuttle bus service.\n",
            "3. The user is not satisfied because they have been waiting for almost an hour and no shuttle bus has shown up at Salisbury Mills, which is only one stop away from Harriman.\n",
            "\n",
            "Analysis 2:\n",
            "I'm sorry, but I cannot determine the corresponding travel mode, user satisfaction, or reasons for dissatisfaction based on the tweet provided. If you have any other questions or need assistance with something else, feel free to ask!\n",
            "\n",
            "Analysis 3:\n",
            "1. The corresponding travel mode is a bus.\n",
            "2. The user is not satisfied with the bus service in this situation.\n",
            "3. The user is likely not satisfied because the bus is out of service, the engine is off, and they are not allowed to disembark while still on the highway. This has caused an inconvenience and delay in their journey.\n",
            "\n",
            "Analysis 4:\n",
            "I'm sorry, but I need the actual tweet in order to analyze the corresponding travel mode, the user's satisfaction, and any reasons for dissatisfaction. Please provide the tweet so I can assist you further.\n",
            "\n"
          ]
        }
      ],
      "source": [
        "analysis_results = analyze_tweets(ex)\n",
        "for i, analysis in enumerate(analysis_results, 1):\n",
        "    print(f\"Analysis {i}:\\n{analysis}\\n\")"
      ]
    },
    {
      "cell_type": "markdown",
      "source": [
        "### 7. Conclusion\n",
        "\n",
        "\n",
        "An AI model's success in answering questions from a tweet relies on how relevant the tweet is to those questions. If the tweet lacks relevant information (like in Example 2) or is blank (Example 4), the AI cannot produce useful responses. The effectiveness of the AI depends on the tweet's content and its relevance to the posed questions. Tweets that explicitly discuss travel experiences allow the AI to provide more accurate answers."
      ],
      "metadata": {
        "id": "1HsaVGe82t-D"
      },
      "id": "1HsaVGe82t-D"
    }
  ],
  "metadata": {
    "kernelspec": {
      "display_name": "Python 3",
      "language": "python",
      "name": "python3"
    },
    "language_info": {
      "codemirror_mode": {
        "name": "ipython",
        "version": 3
      },
      "file_extension": ".py",
      "mimetype": "text/x-python",
      "name": "python",
      "nbconvert_exporter": "python",
      "pygments_lexer": "ipython3",
      "version": "3.8.8"
    },
    "colab": {
      "provenance": []
    }
  },
  "nbformat": 4,
  "nbformat_minor": 5
}